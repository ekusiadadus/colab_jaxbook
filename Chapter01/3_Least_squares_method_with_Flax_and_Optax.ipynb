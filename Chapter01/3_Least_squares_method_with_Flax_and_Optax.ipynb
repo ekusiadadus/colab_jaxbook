{
  "nbformat": 4,
  "nbformat_minor": 0,
  "metadata": {
    "colab": {
      "provenance": [],
      "collapsed_sections": []
    },
    "kernelspec": {
      "name": "python3",
      "display_name": "Python 3"
    },
    "language_info": {
      "name": "python"
    }
  },
  "cells": [
    {
      "cell_type": "markdown",
      "source": [
        "# Least squares method with Flax and Optax\n",
        "\n",
        "**Note**: This notebook is desinged to run on CPU (no GPU) runtime."
      ],
      "metadata": {
        "id": "7q1xcZ0otk63"
      }
    },
    {
      "cell_type": "markdown",
      "source": [
        "**[LSF-01]**\n",
        "\n",
        "Install Flax and Optax"
      ],
      "metadata": {
        "id": "tJ4SPK8iZLBZ"
      }
    },
    {
      "cell_type": "code",
      "source": [
        "%%bash\n",
        "pip install -q flax optax\n",
        "pip list | grep -E '(jax|flax|optax)'"
      ],
      "metadata": {
        "colab": {
          "base_uri": "https://localhost:8080/"
        },
        "id": "uw0_g7IqZJ3v",
        "outputId": "7af74a8d-5fa3-4865-fc41-a9f2322d3aad"
      },
      "execution_count": 1,
      "outputs": [
        {
          "output_type": "stream",
          "name": "stdout",
          "text": [
            "flax                          0.6.0\n",
            "jax                           0.3.17\n",
            "jaxlib                        0.3.15+cuda11.cudnn805\n",
            "optax                         0.1.3\n"
          ]
        }
      ]
    },
    {
      "cell_type": "markdown",
      "source": [
        "**[LSF-02]**\n",
        "\n",
        "Import modules."
      ],
      "metadata": {
        "id": "TsQgGbRroc_R"
      }
    },
    {
      "cell_type": "code",
      "source": [
        "import numpy as np \n",
        "import matplotlib.pyplot as plt\n",
        "from pandas import DataFrame\n",
        "\n",
        "import jax, optax\n",
        "from jax import random, numpy as jnp\n",
        "from flax import linen as nn\n",
        "from flax.training import train_state\n",
        "\n",
        "plt.rcParams.update({'font.size': 12})"
      ],
      "metadata": {
        "id": "idry_DanO34U"
      },
      "execution_count": 2,
      "outputs": []
    },
    {
      "cell_type": "markdown",
      "source": [
        "**[LSF-03]**\n",
        "\n",
        "Prepare the ground truth labels.\n",
        "\n",
        "**Note**: The output from the model is in an array `[y]`, not a scalar `y`. Accordingly, we prepare the labels as a list of an array `[t]`."
      ],
      "metadata": {
        "id": "_VIkbqm_ogzM"
      }
    },
    {
      "cell_type": "code",
      "source": [
        "train_t = jnp.asarray([5.2, 5.7, 8.6, 14.9, 18.2, 20.4,\n",
        "                       25.5, 26.4, 22.8, 17.5, 11.1, 6.6])\n",
        "train_t = train_t.reshape([12, 1])\n",
        "train_t"
      ],
      "metadata": {
        "colab": {
          "base_uri": "https://localhost:8080/"
        },
        "id": "SxaiB7StPFVH",
        "outputId": "c028e0b4-50af-4f0c-8634-ded49712d1f2"
      },
      "execution_count": 3,
      "outputs": [
        {
          "output_type": "stream",
          "name": "stderr",
          "text": [
            "WARNING:absl:No GPU/TPU found, falling back to CPU. (Set TF_CPP_MIN_LOG_LEVEL=0 and rerun for more info.)\n"
          ]
        },
        {
          "output_type": "execute_result",
          "data": {
            "text/plain": [
              "DeviceArray([[ 5.2],\n",
              "             [ 5.7],\n",
              "             [ 8.6],\n",
              "             [14.9],\n",
              "             [18.2],\n",
              "             [20.4],\n",
              "             [25.5],\n",
              "             [26.4],\n",
              "             [22.8],\n",
              "             [17.5],\n",
              "             [11.1],\n",
              "             [ 6.6]], dtype=float32)"
            ]
          },
          "metadata": {},
          "execution_count": 3
        }
      ]
    },
    {
      "cell_type": "markdown",
      "source": [
        "**[LSF-04]**\n",
        "\n",
        "Prepare the input data.\n",
        "\n",
        "`train_x` contains the input values $(x^1, x^2, x^3, x^4)\\ (x=0,\\cdots,12)$ to the model in the design matrix form:\n",
        "\n",
        "$$\n",
        "\\mathbf X = \\begin{pmatrix}\n",
        "1^1 & 1^2 & 1^3 & 1^4 \\\\\n",
        "2^1 & 2^2 & 2^3 & 2^4 \\\\\n",
        "\\vdots & \\vdots & \\vdots & \\vdots \\\\\n",
        "12^1 & 12^2 & 12^3 & 12^4\n",
        "\\end{pmatrix}\n",
        "$$"
      ],
      "metadata": {
        "id": "mdmUs2LZojgJ"
      }
    },
    {
      "cell_type": "code",
      "source": [
        "train_x = jnp.asarray([[month**n for n in range(1, 5)]\n",
        "                       for month in range(1, 13)])\n",
        "train_x"
      ],
      "metadata": {
        "colab": {
          "base_uri": "https://localhost:8080/"
        },
        "id": "3RCqDTqgPIQd",
        "outputId": "ff3d8943-5faf-4e2a-a483-0eee3a7ff84c"
      },
      "execution_count": 4,
      "outputs": [
        {
          "output_type": "execute_result",
          "data": {
            "text/plain": [
              "DeviceArray([[    1,     1,     1,     1],\n",
              "             [    2,     4,     8,    16],\n",
              "             [    3,     9,    27,    81],\n",
              "             [    4,    16,    64,   256],\n",
              "             [    5,    25,   125,   625],\n",
              "             [    6,    36,   216,  1296],\n",
              "             [    7,    49,   343,  2401],\n",
              "             [    8,    64,   512,  4096],\n",
              "             [    9,    81,   729,  6561],\n",
              "             [   10,   100,  1000, 10000],\n",
              "             [   11,   121,  1331, 14641],\n",
              "             [   12,   144,  1728, 20736]], dtype=int32)"
            ]
          },
          "metadata": {},
          "execution_count": 4
        }
      ]
    },
    {
      "cell_type": "markdown",
      "source": [
        "**[LSF-05]**\n",
        "\n",
        "Define a model to predict the label values against a batch `x`.\n",
        "\n",
        "**Note**: The input to the model is in a batch form like `train_x`. The output from the model is in a batch from like `train_t` accordingly."
      ],
      "metadata": {
        "id": "sys5zGKIpzVL"
      }
    },
    {
      "cell_type": "code",
      "source": [
        "class TemperatureModel(nn.Module):\n",
        "    @nn.compact\n",
        "    def __call__(self, x):\n",
        "        y = nn.Dense(features=1)(x)\n",
        "        return y"
      ],
      "metadata": {
        "id": "X9W4fKuFPNTM"
      },
      "execution_count": 5,
      "outputs": []
    },
    {
      "cell_type": "markdown",
      "source": [
        "**[LSF-06]**\n",
        "\n",
        "Generate inital parameter values. The parameter values are stored in `variable['params']`\n",
        "\n",
        "**Note**: To get the initial values of model parameters with `TemperatureModel().init()`, you should supply the random number generator (random seed) and a sample batch input to the model."
      ],
      "metadata": {
        "id": "klJQdPePQXZX"
      }
    },
    {
      "cell_type": "code",
      "source": [
        "key, key1 = random.split(random.PRNGKey(0))\n",
        "variables = TemperatureModel().init(key, train_x)\n",
        "variables"
      ],
      "metadata": {
        "colab": {
          "base_uri": "https://localhost:8080/"
        },
        "id": "C8WBSdpYN6km",
        "outputId": "8ee3cf48-6244-4357-fa57-63f0e57a2308"
      },
      "execution_count": 6,
      "outputs": [
        {
          "output_type": "execute_result",
          "data": {
            "text/plain": [
              "FrozenDict({\n",
              "    params: {\n",
              "        Dense_0: {\n",
              "            kernel: DeviceArray([[-0.31782892],\n",
              "                         [-0.24401496],\n",
              "                         [ 0.6426492 ],\n",
              "                         [-0.39243346]], dtype=float32),\n",
              "            bias: DeviceArray([0.], dtype=float32),\n",
              "        },\n",
              "    },\n",
              "})"
            ]
          },
          "metadata": {},
          "execution_count": 6
        }
      ]
    },
    {
      "cell_type": "markdown",
      "source": [
        "**[LSF-07]**\n",
        "\n",
        "Create a training state object that contains:\n",
        "\n",
        "- Model function to get predictions: `apply_fn`\n",
        "- Model parameters: `params`\n",
        "- Optimizer information: `tx`\n",
        "\n",
        "We use the Adam optimizer here.\n"
      ],
      "metadata": {
        "id": "TzoYmhcyqBXM"
      }
    },
    {
      "cell_type": "code",
      "source": [
        "state = train_state.TrainState.create(\n",
        "    apply_fn=TemperatureModel().apply,\n",
        "    params=variables['params'],\n",
        "    tx=optax.adam(learning_rate=0.001))"
      ],
      "metadata": {
        "id": "Q5wmuPnAahSt"
      },
      "execution_count": 7,
      "outputs": []
    },
    {
      "cell_type": "markdown",
      "source": [
        "**[LSF-08]**\n",
        "\n",
        "Define a loss function as the mean square error. The first parameter of `loss_fn` should be the model parameters."
      ],
      "metadata": {
        "id": "bsC0iYCxqIdl"
      }
    },
    {
      "cell_type": "code",
      "source": [
        "@jax.jit\n",
        "def loss_fn(params, state, inputs, labels):\n",
        "    predicts = state.apply_fn({'params': params}, inputs)\n",
        "    loss = optax.l2_loss(predicts, labels).mean()\n",
        "    return loss"
      ],
      "metadata": {
        "id": "29jGL-9kqHfq"
      },
      "execution_count": 8,
      "outputs": []
    },
    {
      "cell_type": "markdown",
      "source": [
        "**[LSF-09]**\n",
        "\n",
        "Define a function to apply a single training step that returns a new training state."
      ],
      "metadata": {
        "id": "e_1FLkT4yyUx"
      }
    },
    {
      "cell_type": "code",
      "source": [
        "@jax.jit\n",
        "def train_step(state, inputs, labels):\n",
        "    loss, grads = jax.value_and_grad(loss_fn)(\n",
        "        state.params, state, inputs, labels)\n",
        "    new_state = state.apply_gradients(grads=grads)\n",
        "    return new_state, loss"
      ],
      "metadata": {
        "id": "8XBDESpHyi1v"
      },
      "execution_count": 9,
      "outputs": []
    },
    {
      "cell_type": "markdown",
      "source": [
        "**[LSF-10]**\n",
        "\n",
        "Repeat applying the training step.\n",
        "\n",
        "**Note**: You can use `jax.device_get()` to explicitly copy values from GPU memory to the system memory."
      ],
      "metadata": {
        "id": "uwV8LLDkr9j4"
      }
    },
    {
      "cell_type": "code",
      "source": [
        "%%time\n",
        "loss_history = []\n",
        "for step in range(1, 100001):\n",
        "    state, loss_val = train_step(state, train_x, train_t)\n",
        "    loss_history.append(jax.device_get(loss_val).tolist())\n",
        "    if step % 10000 == 0:\n",
        "        print ('Step: {}, Loss: {:0.4f}'.format(step, loss_val),\n",
        "               flush=True)        "
      ],
      "metadata": {
        "colab": {
          "base_uri": "https://localhost:8080/"
        },
        "id": "Gy7Akuq1QzqD",
        "outputId": "ae6fd789-9c78-4bf4-a4e5-63262984b9b1"
      },
      "execution_count": 10,
      "outputs": [
        {
          "output_type": "stream",
          "name": "stdout",
          "text": [
            "Step: 10000, Loss: 69.3053\n",
            "Step: 20000, Loss: 2.0567\n",
            "Step: 30000, Loss: 1.4215\n",
            "Step: 40000, Loss: 1.3458\n",
            "Step: 50000, Loss: 1.2841\n",
            "Step: 60000, Loss: 1.2269\n",
            "Step: 70000, Loss: 1.1738\n",
            "Step: 80000, Loss: 1.3381\n",
            "Step: 90000, Loss: 1.0791\n",
            "Step: 100000, Loss: 1.0369\n",
            "CPU times: user 10 s, sys: 74.4 ms, total: 10.1 s\n",
            "Wall time: 12 s\n"
          ]
        }
      ]
    },
    {
      "cell_type": "markdown",
      "source": [
        "**[LSF-11]**\n",
        "\n",
        "Show charts of the loss history."
      ],
      "metadata": {
        "id": "NLZvSDauMKAN"
      }
    },
    {
      "cell_type": "code",
      "source": [
        "df = DataFrame({'Loss': loss_history})\n",
        "df.index.name = 'Steps'\n",
        "_ = df.plot(figsize=(6, 4), xlim=(0, 2000))\n",
        "\n",
        "df = DataFrame({'Loss': loss_history})\n",
        "df.index.name = 'Steps'\n",
        "_ = df.plot(figsize=(6, 4), ylim=(0, 8))"
      ],
      "metadata": {
        "colab": {
          "base_uri": "https://localhost:8080/",
          "height": 571
        },
        "id": "rSepJDBczVD_",
        "outputId": "80111dc9-bfbc-4a0f-f1ca-3a0ada682f1e"
      },
      "execution_count": 11,
      "outputs": [
        {
          "output_type": "display_data",
          "data": {
            "text/plain": [
              "<Figure size 432x288 with 1 Axes>"
            ],
            "image/png": "[encoded data removed]"
          },
          "metadata": {
            "needs_background": "light"
          }
        },
        {
          "output_type": "display_data",
          "data": {
            "text/plain": [
              "<Figure size 432x288 with 1 Axes>"
            ],
            "image/png": "[encoded data removed]"
          },
          "metadata": {
            "needs_background": "light"
          }
        }
      ]
    },
    {
      "cell_type": "markdown",
      "source": [
        "**[LSF-12]**\n",
        "\n",
        "Show weights after the training."
      ],
      "metadata": {
        "id": "pGagmAD6sQF6"
      }
    },
    {
      "cell_type": "code",
      "source": [
        "state.params"
      ],
      "metadata": {
        "colab": {
          "base_uri": "https://localhost:8080/"
        },
        "id": "lKucDZanr5eM",
        "outputId": "ae20c621-b9fd-4a1f-e454-1d74daf6edb1"
      },
      "execution_count": 12,
      "outputs": [
        {
          "output_type": "execute_result",
          "data": {
            "text/plain": [
              "FrozenDict({\n",
              "    Dense_0: {\n",
              "        bias: DeviceArray([2.5073023], dtype=float32),\n",
              "        kernel: DeviceArray([[-0.27266374],\n",
              "                     [ 1.3955244 ],\n",
              "                     [-0.15799412],\n",
              "                     [ 0.00375826]], dtype=float32),\n",
              "    },\n",
              "})"
            ]
          },
          "metadata": {},
          "execution_count": 12
        }
      ]
    },
    {
      "cell_type": "markdown",
      "source": [
        "Plot a chart for predictions."
      ],
      "metadata": {
        "id": "8yS-pN6esUya"
      }
    },
    {
      "cell_type": "markdown",
      "source": [
        "**[LSF-13]**\n",
        "\n",
        "Plot a chart for predictions."
      ],
      "metadata": {
        "id": "0H3yeIefMVr0"
      }
    },
    {
      "cell_type": "code",
      "source": [
        "xs = np.linspace(1, 12, 100)\n",
        "inputs = jnp.asarray([[month**n for n in range(1, 5)]\n",
        "                      for month in xs])\n",
        "ys = state.apply_fn({'params': state.params}, inputs)\n",
        "\n",
        "fig = plt.figure(figsize=(6, 4))\n",
        "subplot = fig.add_subplot(1, 1, 1)\n",
        "subplot.set_xlim(1, 12)\n",
        "subplot.set_ylim(0, 30)\n",
        "subplot.set_xticks(range(1, 13))\n",
        "subplot.set_xlabel('Month')\n",
        "subplot.set_ylabel('℃')\n",
        "\n",
        "subplot.scatter(range(1, 13), train_t)\n",
        "_ = subplot.plot(xs, ys)"
      ],
      "metadata": {
        "colab": {
          "base_uri": "https://localhost:8080/",
          "height": 290
        },
        "id": "3mOCV37WUN_a",
        "outputId": "eb60ef0e-2bd4-48e3-be09-a23d2d34e23e"
      },
      "execution_count": 13,
      "outputs": [
        {
          "output_type": "display_data",
          "data": {
            "text/plain": [
              "<Figure size 432x288 with 1 Axes>"
            ],
            "image/png": "[encoded data removed]"
          },
          "metadata": {
            "needs_background": "light"
          }
        }
      ]
    }
  ]
}